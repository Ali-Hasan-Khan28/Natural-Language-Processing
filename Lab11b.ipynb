{
  "nbformat": 4,
  "nbformat_minor": 0,
  "metadata": {
    "colab": {
      "provenance": [],
      "authorship_tag": "ABX9TyNIVmRpkGzH1GRNe8ajbLs5",
      "include_colab_link": true
    },
    "kernelspec": {
      "name": "python3",
      "display_name": "Python 3"
    },
    "language_info": {
      "name": "python"
    }
  },
  "cells": [
    {
      "cell_type": "markdown",
      "metadata": {
        "id": "view-in-github",
        "colab_type": "text"
      },
      "source": [
        "<a href=\"https://colab.research.google.com/github/Ali-Hasan-Khan28/Natural-Language-Processing/blob/main/Lab11b.ipynb\" target=\"_parent\"><img src=\"https://colab.research.google.com/assets/colab-badge.svg\" alt=\"Open In Colab\"/></a>"
      ]
    },
    {
      "cell_type": "code",
      "execution_count": 1,
      "metadata": {
        "id": "Hu_FE19TczF3"
      },
      "outputs": [],
      "source": [
        "import numpy as np\n",
        "import pandas as pd\n",
        "import tensorflow as tf\n",
        "from sklearn.model_selection import train_test_split\n",
        "from sklearn.metrics import classification_report\n",
        "from keras.preprocessing.sequence import pad_sequences\n",
        "from keras.utils import to_categorical\n",
        "from keras.models import Model\n",
        "from keras.layers import Input, LSTM, Embedding, Dense, TimeDistributed, Bidirectional"
      ]
    },
    {
      "cell_type": "code",
      "source": [
        "data = pd.DataFrame({\n",
        "    'word': [\"John\", \"Smith\", \"works\", \"at\", \"Google\", \"in\", \"New\", \"York\"],\n",
        "    'pos_tag': [\"NNP\", \"NNP\", \"VBZ\", \"IN\", \"NNP\", \"IN\", \"NNP\", \"NNP\"],\n",
        "    'label': [\"B-PER\", \"I-PER\", \"O\", \"O\", \"B-ORG\", \"O\", \"B-LOC\", \"I-LOC\"]\n",
        "})"
      ],
      "metadata": {
        "id": "QOxK4Kxcc8hf"
      },
      "execution_count": 2,
      "outputs": []
    },
    {
      "cell_type": "code",
      "source": [
        "words = data['word'].tolist()\n",
        "labels = data['label'].tolist()\n",
        "num_words = len(set(words))\n",
        "num_labels = len(set(labels))\n",
        "word2idx = {word: idx + 1 for idx, word in enumerate(set(words))}\n",
        "label2idx = {label: idx for idx, label in enumerate(set(labels))}\n",
        "X = [[word2idx[word] for word in words]]\n",
        "y = [[label2idx[label] for label in labels]]\n"
      ],
      "metadata": {
        "id": "iZQ2JE0CdC7B"
      },
      "execution_count": 3,
      "outputs": []
    },
    {
      "cell_type": "code",
      "source": [
        "X_train, X_test, y_train, y_test = train_test_split(X * 100, y * 100, test_size=0.2, random_state=42)"
      ],
      "metadata": {
        "id": "WFLVOaObdFkA"
      },
      "execution_count": 4,
      "outputs": []
    },
    {
      "cell_type": "code",
      "source": [
        "def create_lstm_model(max_len, num_words, num_labels):\n",
        "    input_layer = Input(shape=(max_len,))\n",
        "    embedding_layer = Embedding(input_dim=num_words, output_dim=50, input_length=max_len)(input_layer)\n",
        "    lstm_layer = Bidirectional(LSTM(units=100, return_sequences=True, recurrent_dropout=0.1))(embedding_layer)\n",
        "    output_layer = TimeDistributed(Dense(num_labels, activation='softmax'))(lstm_layer)\n",
        "    model = Model(inputs=input_layer, outputs=output_layer)\n",
        "    model.compile(optimizer='adam', loss='categorical_crossentropy', metrics=['accuracy'])\n",
        "    return model"
      ],
      "metadata": {
        "id": "irugqgCvdJC_"
      },
      "execution_count": 5,
      "outputs": []
    },
    {
      "cell_type": "code",
      "source": [
        "def train_lstm_model(X_train, y_train, X_test, y_test, num_words, num_labels):\n",
        "    max_len = max(len(seq) for seq in X_train + X_test)\n",
        "    X_train_pad = pad_sequences(X_train, maxlen=max_len, padding='post', value=0)  # Add 'value=0' for padding token\n",
        "    y_train_pad = pad_sequences(y_train, maxlen=max_len, padding='post', value=0)  # Add 'value=0' for padding token\n",
        "    X_test_pad = pad_sequences(X_test, maxlen=max_len, padding='post', value=0)    # Add 'value=0' for padding token\n",
        "    y_test_pad = pad_sequences(y_test, maxlen=max_len, padding='post', value=0)    # Add 'value=0' for padding token\n",
        "\n",
        "    model = create_lstm_model(max_len, num_words, num_labels)\n",
        "    model.fit(X_train_pad, to_categorical(y_train_pad, num_classes=num_labels), validation_data=(X_test_pad, to_categorical(y_test_pad, num_classes=num_labels)), batch_size=32, epochs=10)\n",
        "    return model"
      ],
      "metadata": {
        "id": "zxVfRgmtdMXc"
      },
      "execution_count": 10,
      "outputs": []
    },
    {
      "cell_type": "code",
      "source": [
        "# Step 5: Inference\n",
        "# Evaluate the model's performance using standard NER metrics such as precision, recall, and F1-score\n",
        "def evaluate_model(model, X_test, y_test):\n",
        "    y_pred = model.predict(X_test)\n",
        "    y_pred_labels = np.argmax(y_pred, axis=-1)\n",
        "    y_test_labels = np.array(y_test)\n",
        "    # Flatten the sequences and ignore padding\n",
        "    y_pred_labels_flat = [label for pred_seq, true_seq in zip(y_pred_labels, y_test_labels) for label in pred_seq[:len(true_seq)]]\n",
        "    y_test_labels_flat = [label for seq in y_test_labels for label in seq]\n",
        "    print(classification_report(y_test_labels_flat, y_pred_labels_flat))"
      ],
      "metadata": {
        "id": "bRVZd_WadX60"
      },
      "execution_count": 11,
      "outputs": []
    },
    {
      "cell_type": "code",
      "source": [
        "# Train and evaluate the LSTM model\n",
        "model = train_lstm_model(X_train, y_train, X_test, y_test, num_words + 1, num_labels + 1)  # Increment num_words and num_labels to account for padding token\n",
        "\n",
        "# Calculate max_len\n",
        "max_len = max(len(seq) for seq in X_train + X_test)\n",
        "\n",
        "# Retrieve padded test data from the train_lstm_model function\n",
        "X_test_pad = pad_sequences(X_test, maxlen=max_len, padding='post', value=0)    # Add 'value=0' for padding token\n",
        "y_test_pad = pad_sequences(y_test, maxlen=max_len, padding='post', value=0)    # Add 'value=0' for padding token\n",
        "\n",
        "# Evaluate the model\n",
        "evaluate_model(model, X_test_pad, y_test_pad)\n"
      ],
      "metadata": {
        "colab": {
          "base_uri": "https://localhost:8080/"
        },
        "id": "C8R3tAEodbL7",
        "outputId": "ad8879ff-29a3-4eda-fb77-f8b29945b3a7"
      },
      "execution_count": 15,
      "outputs": [
        {
          "output_type": "stream",
          "name": "stdout",
          "text": [
            "Epoch 1/10\n",
            "3/3 [==============================] - 9s 313ms/step - loss: 1.9380 - accuracy: 0.3594 - val_loss: 1.9160 - val_accuracy: 0.3750\n",
            "Epoch 2/10\n",
            "3/3 [==============================] - 0s 53ms/step - loss: 1.9076 - accuracy: 0.3750 - val_loss: 1.8829 - val_accuracy: 0.3750\n",
            "Epoch 3/10\n",
            "3/3 [==============================] - 0s 52ms/step - loss: 1.8726 - accuracy: 0.3750 - val_loss: 1.8418 - val_accuracy: 0.3750\n",
            "Epoch 4/10\n",
            "3/3 [==============================] - 0s 45ms/step - loss: 1.8285 - accuracy: 0.3750 - val_loss: 1.7878 - val_accuracy: 0.3750\n",
            "Epoch 5/10\n",
            "3/3 [==============================] - 0s 46ms/step - loss: 1.7698 - accuracy: 0.3750 - val_loss: 1.7146 - val_accuracy: 0.3750\n",
            "Epoch 6/10\n",
            "3/3 [==============================] - 0s 56ms/step - loss: 1.6906 - accuracy: 0.3750 - val_loss: 1.6168 - val_accuracy: 0.3750\n",
            "Epoch 7/10\n",
            "3/3 [==============================] - 0s 47ms/step - loss: 1.5857 - accuracy: 0.3750 - val_loss: 1.4964 - val_accuracy: 0.3750\n",
            "Epoch 8/10\n",
            "3/3 [==============================] - 0s 47ms/step - loss: 1.4628 - accuracy: 0.3750 - val_loss: 1.3666 - val_accuracy: 0.3750\n",
            "Epoch 9/10\n",
            "3/3 [==============================] - 0s 54ms/step - loss: 1.3287 - accuracy: 0.3750 - val_loss: 1.2143 - val_accuracy: 0.3750\n",
            "Epoch 10/10\n",
            "3/3 [==============================] - 0s 55ms/step - loss: 1.1682 - accuracy: 0.4828 - val_loss: 1.0523 - val_accuracy: 0.6250\n",
            "1/1 [==============================] - 0s 476ms/step\n",
            "              precision    recall  f1-score   support\n",
            "\n",
            "           0       0.00      0.00      0.00        20\n",
            "           1       0.50      1.00      0.67        60\n",
            "           2       1.00      1.00      1.00        20\n",
            "           3       0.00      0.00      0.00        20\n",
            "           4       0.00      0.00      0.00        20\n",
            "           5       1.00      1.00      1.00        20\n",
            "\n",
            "    accuracy                           0.62       160\n",
            "   macro avg       0.42      0.50      0.44       160\n",
            "weighted avg       0.44      0.62      0.50       160\n",
            "\n"
          ]
        },
        {
          "output_type": "stream",
          "name": "stderr",
          "text": [
            "/usr/local/lib/python3.10/dist-packages/sklearn/metrics/_classification.py:1344: UndefinedMetricWarning: Precision and F-score are ill-defined and being set to 0.0 in labels with no predicted samples. Use `zero_division` parameter to control this behavior.\n",
            "  _warn_prf(average, modifier, msg_start, len(result))\n",
            "/usr/local/lib/python3.10/dist-packages/sklearn/metrics/_classification.py:1344: UndefinedMetricWarning: Precision and F-score are ill-defined and being set to 0.0 in labels with no predicted samples. Use `zero_division` parameter to control this behavior.\n",
            "  _warn_prf(average, modifier, msg_start, len(result))\n",
            "/usr/local/lib/python3.10/dist-packages/sklearn/metrics/_classification.py:1344: UndefinedMetricWarning: Precision and F-score are ill-defined and being set to 0.0 in labels with no predicted samples. Use `zero_division` parameter to control this behavior.\n",
            "  _warn_prf(average, modifier, msg_start, len(result))\n"
          ]
        }
      ]
    },
    {
      "cell_type": "code",
      "source": [],
      "metadata": {
        "id": "0KXyDF_ddeva"
      },
      "execution_count": null,
      "outputs": []
    }
  ]
}